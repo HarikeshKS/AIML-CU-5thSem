{
 "cells": [
  {
   "cell_type": "code",
   "execution_count": 6,
   "metadata": {},
   "outputs": [
    {
     "name": "stdout",
     "output_type": "stream",
     "text": [
      "Mean is =  55.375\n",
      "Median is =  55.5\n",
      "Mode is =  45\n",
      "Standard deviation is =  32.706213913741664\n",
      "Variance is =  1069.6964285714287\n"
     ]
    }
   ],
   "source": [
    "import numpy as np\n",
    "from statistics import mean, median, mode, stdev, variance\n",
    "data = [45,67,98,100,20,19,28,66]\n",
    "mean_val = np.mean(data)\n",
    "median_val = np.median(data)\n",
    "mod_val = mode(data)\n",
    "stdev_val = stdev(data)\n",
    "var_val = variance(data)\n",
    "print(\"Mean is = \", mean_val)\n",
    "print(\"Median is = \", median_val)\n",
    "print(\"Mode is = \", mod_val)\n",
    "print(\"Standard deviation is = \", stdev_val)\n",
    "print(\"Variance is = \", var_val)"
   ]
  }
 ],
 "metadata": {
  "kernelspec": {
   "display_name": "Python 3",
   "language": "python",
   "name": "python3"
  },
  "language_info": {
   "codemirror_mode": {
    "name": "ipython",
    "version": 3
   },
   "file_extension": ".py",
   "mimetype": "text/x-python",
   "name": "python",
   "nbconvert_exporter": "python",
   "pygments_lexer": "ipython3",
   "version": "3.11.2"
  }
 },
 "nbformat": 4,
 "nbformat_minor": 2
}
