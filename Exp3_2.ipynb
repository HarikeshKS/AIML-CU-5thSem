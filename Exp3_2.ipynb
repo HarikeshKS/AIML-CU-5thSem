{
  "cells": [
    {
      "cell_type": "code",
      "execution_count": 1,
      "metadata": {
        "id": "dpg-4EYOPbJb"
      },
      "outputs": [],
      "source": [
        "from collections import defaultdict\n",
        "import math\n",
        "\n",
        "def preprocess_text(text):\n",
        "    # Tokenize the text (split into words)\n",
        "    words = text.split()\n",
        "    # Remove punctuation and convert to lowercase\n",
        "    cleaned_words = [word.lower() for word in words]\n",
        "    return cleaned_words\n",
        "\n",
        "def train_naive_bayes(texts, labels):\n",
        "    # Calculate class priors (P(y))\n",
        "    class_counts = defaultdict(int)\n",
        "    total_docs = len(labels)\n",
        "    for label in labels:\n",
        "        class_counts[label] += 1\n",
        "    class_priors = {label: count / total_docs for label, count in class_counts.items()}\n",
        "\n",
        "    # Calculate word likelihoods (P(x|y))\n",
        "    word_counts = defaultdict(lambda: defaultdict(int))\n",
        "    class_totals = defaultdict(int)\n",
        "    for i, text in enumerate(texts):\n",
        "        label = labels[i]\n",
        "        words = preprocess_text(text)\n",
        "        class_totals[label] += len(words)\n",
        "        for word in words:\n",
        "            word_counts[label][word] += 1\n",
        "\n",
        "    word_likelihoods = {label: {word: count / class_totals[label] for word, count in counts.items()}\n",
        "                       for label, counts in word_counts.items()}\n",
        "    return class_priors, word_likelihoods\n",
        "\n",
        "def classify_naive_bayes(text, class_priors, word_likelihoods):\n",
        "    words = preprocess_text(text)\n",
        "    scores = {label: math.log(class_priors[label]) for label in class_priors.keys()}\n",
        "    for label in class_priors.keys():\n",
        "        for word in words:\n",
        "            if word in word_likelihoods[label]:\n",
        "                scores[label] += math.log(word_likelihoods[label][word])\n",
        "\n",
        "    # Choose the class with the highest score\n",
        "    predicted_class = max(scores, key=scores.get)\n",
        "    return predicted_class"
      ]
    },
    {
      "cell_type": "code",
      "execution_count": 2,
      "metadata": {
        "colab": {
          "base_uri": "https://localhost:8080/",
          "height": 449
        },
        "id": "RBCD_I5vP1ZZ",
        "outputId": "139a5ac7-de14-480a-f298-40c599c83c7f"
      },
      "outputs": [
        {
          "data": {
            "image/png": "[encoded data removed]",
            "text/plain": [
              "<Figure size 640x480 with 1 Axes>"
            ]
          },
          "metadata": {},
          "output_type": "display_data"
        }
      ],
      "source": [
        "import matplotlib.pyplot as plt\n",
        "from sklearn.datasets import load_digits\n",
        "\n",
        "digits = load_digits()\n",
        "data = digits.data\n",
        "target = digits.target\n",
        "target_names = digits.target_names\n",
        "\n",
        "plt.figure()\n",
        "plt.scatter(data[:, 0], data[:, 1], c=target, cmap=plt.cm.Paired)\n",
        "plt.xlabel('Sepal Length (cm)')\n",
        "plt.ylabel('Sepal Width (cm)')\n",
        "plt.show()"
      ]
    }
  ],
  "metadata": {
    "colab": {
      "provenance": []
    },
    "kernelspec": {
      "display_name": "Python 3",
      "name": "python3"
    },
    "language_info": {
      "codemirror_mode": {
        "name": "ipython",
        "version": 3
      },
      "file_extension": ".py",
      "mimetype": "text/x-python",
      "name": "python",
      "nbconvert_exporter": "python",
      "pygments_lexer": "ipython3",
      "version": "3.11.2"
    }
  },
  "nbformat": 4,
  "nbformat_minor": 0
}
